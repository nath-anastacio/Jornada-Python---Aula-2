{
 "cells": [
  {
   "cell_type": "markdown",
   "metadata": {},
   "source": [
    "# Python Insights - Analisando Dados com Python\n",
    "\n",
    "### Case - Cancelamento de Clientes\n",
    "\n",
    "Você foi contratado por uma empresa com mais de 800 mil clientes para um projeto de Dados. Recentemente a empresa percebeu que da sua base total de clientes, a maioria são clientes inativos, ou seja, que já cancelaram o serviço.\n",
    "\n",
    "Precisando melhorar seus resultados ela quer conseguir entender os principais motivos desses cancelamentos e quais as ações mais eficientes para reduzir esse número.\n",
    "\n",
    "Base de dados e arquivos: https://drive.google.com/drive/folders/1uDesZePdkhiraJmiyeZ-w5tfc8XsNYFZ?usp=drive_link"
   ]
  },
  {
   "cell_type": "code",
   "execution_count": null,
   "metadata": {},
   "outputs": [],
   "source": [
    "#Passo a passo\n",
    "#Passo 1: Importar a base de dados\n",
    "#Passo 2: Visualizar a base de dados\n",
    "#Passo 3: Corrigir erros da base de dados\n",
    "#Passo 4: Análise dos cancelamentos\n",
    "#Passo 5: Análise das causas dos cancelamentos (como as colunas impactam no cancelamento?)\n",
    "\n",
    "#pip install pandas numpy openpuxl nbformat ipykernel plotly\n",
    "\n",
    "#Passo 1:\n",
    "import pandas as pd\n",
    "tabela = pd.read_csv('cancelamentos.csv')\n",
    "\n",
    "#Passo 2:\n",
    "display(tabela)"
   ]
  },
  {
   "cell_type": "code",
   "execution_count": null,
   "metadata": {},
   "outputs": [],
   "source": [
    "#Passo 3:\n",
    "#Colunas inúteis - informações que não ajudam, te atrapalham\n",
    "tabela.drop(columns = 'CustomerID')\n",
    "\n",
    "display(tabela.info())\n",
    "tabela = tabela.dropna() #valores vazios - exclui as linhas que têm valores vazios\n",
    "\n",
    "display(tabela.info())"
   ]
  },
  {
   "cell_type": "code",
   "execution_count": null,
   "metadata": {},
   "outputs": [],
   "source": [
    "#Passo 4:\n",
    "\n",
    "#Quantas pessoas cancelaram e quantas não cancelaram?\n",
    "display(tabela['cancelou'].value_counts())\n",
    "\n",
    "#Mostra valores em percentual\n",
    "display(tabela['cancelou'].value_counts(normalize=True))\n",
    "#display(tabela['cancelou'].value_counts(normalize=True).map('{:.1%}'.format))"
   ]
  },
  {
   "cell_type": "code",
   "execution_count": null,
   "metadata": {},
   "outputs": [],
   "source": [
    "#Passo 5:\n",
    "#!pip install plotly\n",
    "\n",
    "import plotly.express as px\n",
    "\n",
    "#Cria o gráfico\n",
    "\n",
    "for coluna in tabela.columns:\n",
    "    grafico = px.histogram(tabela, x=coluna, color='cancelou')\n",
    "    #exibe o gráfico\n",
    "    grafico.show()"
   ]
  }
 ],
 "metadata": {
  "kernelspec": {
   "display_name": "Python 3",
   "language": "python",
   "name": "python3"
  },
  "language_info": {
   "codemirror_mode": {
    "name": "ipython",
    "version": 3
   },
   "file_extension": ".py",
   "mimetype": "text/x-python",
   "name": "python",
   "nbconvert_exporter": "python",
   "pygments_lexer": "ipython3",
   "version": "3.12.6"
  },
  "orig_nbformat": 4
 },
 "nbformat": 4,
 "nbformat_minor": 2
}
